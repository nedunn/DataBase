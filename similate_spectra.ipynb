{
 "cells": [
  {
   "attachments": {},
   "cell_type": "markdown",
   "metadata": {},
   "source": [
    "<h1> Make a Sample Spectra!"
   ]
  },
  {
   "cell_type": "code",
   "execution_count": null,
   "metadata": {},
   "outputs": [],
   "source": [
    "import random\n",
    "import numpy as np\n",
    "\n",
    "length=200\n",
    "# Generate x values\n",
    "xs = np.linspace(0, 1000, length)\n",
    "\n",
    "# Generate y values with 4 peaks\n",
    "ys = 10*np.exp(-(xs-100)**2/5000) + \\\n",
    "    20*np.exp(-(xs-300)**2/2000) + \\\n",
    "    15*np.exp(-(xs-500)**2/800) + \\\n",
    "    5*np.exp(-(xs-700)**2/2000) + \\\n",
    "    np.random.normal(0, 0.3, length)\n",
    "\n",
    "xs=list(xs)\n",
    "for x in xs:\n",
    "    i=xs.index(x) #get index\n",
    "    if i < (length/5):\n",
    "        ys[i]=random.uniform(18,22)\n",
    "\n",
    "drift = np.linspace(30,-10,length)\n",
    "ys+=drift\n",
    "\n",
    "\n",
    "fig=go.Figure(go.Scatter(x=xs, y=ys))\n",
    "print('xs = ',xs)\n",
    "print('ys = ',ys)"
   ]
  }
 ],
 "metadata": {
  "kernelspec": {
   "display_name": "spinne-cP8-tGrS",
   "language": "python",
   "name": "python3"
  },
  "language_info": {
   "name": "python",
   "version": "3.8.10"
  },
  "orig_nbformat": 4
 },
 "nbformat": 4,
 "nbformat_minor": 2
}
